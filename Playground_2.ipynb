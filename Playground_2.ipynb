{
 "cells": [
  {
   "cell_type": "markdown",
   "metadata": {},
   "source": [
    "# Libraries"
   ]
  },
  {
   "cell_type": "code",
   "execution_count": 1,
   "metadata": {
    "collapsed": false,
    "scrolled": true
   },
   "outputs": [
    {
     "data": {
      "text/plain": [
       "'/home/avgupta/anaconda2/bin/python2'"
      ]
     },
     "execution_count": 1,
     "metadata": {},
     "output_type": "execute_result"
    }
   ],
   "source": [
    "import sys\n",
    "sys.executable"
   ]
  },
  {
   "cell_type": "code",
   "execution_count": 2,
   "metadata": {
    "collapsed": false
   },
   "outputs": [],
   "source": [
    "#import snap\n",
    "import collections\n",
    "from collections import namedtuple\n",
    "import numpy as np\n",
    "import pdb\n",
    "import pandas as pd\n",
    "from sklearn.metrics import mean_squared_error\n",
    "from scipy.spatial import distance\n",
    "import copy\n",
    "import matplotlib.pylab as plt\n",
    "%matplotlib inline"
   ]
  },
  {
   "cell_type": "code",
   "execution_count": 3,
   "metadata": {
    "collapsed": true
   },
   "outputs": [],
   "source": [
    "np.random.seed(3)"
   ]
  },
  {
   "cell_type": "markdown",
   "metadata": {},
   "source": [
    "# Defining the Ratings Graph Class"
   ]
  },
  {
   "cell_type": "code",
   "execution_count": 4,
   "metadata": {
    "collapsed": false
   },
   "outputs": [],
   "source": [
    "Rating = namedtuple('Rating', ['Rating', 'User', 'Object'])\n",
    "\n",
    "def isfloat(value):\n",
    "    try:\n",
    "        float(value)\n",
    "        return True\n",
    "    except ValueError:\n",
    "        return False\n",
    "\n",
    "def get_data_set():\n",
    "    movie_critic_ratings = {}\n",
    "    \n",
    "    movie_header_indeces = {}\n",
    "    for line in open('data/grouplens/movies.dat'):\n",
    "        line = line.strip()\n",
    "        if not movie_header_indeces:\n",
    "            for i, column in enumerate(line.split('\\t')):\n",
    "                movie_header_indeces[column] = i\n",
    "            continue\n",
    "        NUM_TOP_CRITICS_REVIEWS_IDX = movie_header_indeces['rtTopCriticsNumReviews']\n",
    "        TOP_CRITICS_RATING_IDX = movie_header_indeces['rtTopCriticsRating']\n",
    "        \n",
    "        movie_id, critic_rating, num_critic_ratings = line.split()[0], line.split()[TOP_CRITICS_RATING_IDX], line.split()[NUM_TOP_CRITICS_REVIEWS_IDX]\n",
    "        \n",
    "        if isfloat(num_critic_ratings) and (num_critic_ratings > 10) and isfloat(critic_rating):\n",
    "            critic_rating = float(critic_rating) / 10.0\n",
    "            movie_critic_ratings[movie_id] = critic_rating\n",
    "        \n",
    "    user_rating_header_indeces = {}\n",
    "    ratings = []\n",
    "    for line in open('data/grouplens/user_ratedmovies.dat'):\n",
    "        line = line.strip()\n",
    "        if not user_rating_header_indeces:\n",
    "            for i, column in enumerate(line.split('\\t')):\n",
    "                user_rating_header_indeces[column] = i\n",
    "            continue\n",
    "        \n",
    "        user_id, movie_id, rating = line.split()[0], line.split()[1], line.split()[2]\n",
    "        rating = float(rating) / 5.0\n",
    "        ratings.append(Rating(Rating=rating, User=user_id, Object=movie_id))\n",
    "    \n",
    "    movie_genres = collections.defaultdict(list)\n",
    "    genre_counter = 0\n",
    "    genre_lookup = {}\n",
    "    for line in open('data/grouplens/movie_genres.dat'):\n",
    "        line = line.strip()\n",
    "        movie_id, genre = line.split()\n",
    "        if genre not in genre_lookup.keys():\n",
    "            genre_lookup[genre] = genre_counter\n",
    "            genre_counter += 1\n",
    "        movie_genres[movie_id] += [genre_lookup[genre]]\n",
    "    return ratings, movie_critic_ratings, movie_genres\n",
    "\n",
    "ratings, movie_critic_ratings, movie_genres = get_data_set()"
   ]
  },
  {
   "cell_type": "code",
   "execution_count": 5,
   "metadata": {
    "collapsed": false
   },
   "outputs": [
    {
     "data": {
      "text/plain": [
       "[1, 3, 5]"
      ]
     },
     "execution_count": 5,
     "metadata": {},
     "output_type": "execute_result"
    }
   ],
   "source": [
    "movie_genres['2']"
   ]
  },
  {
   "cell_type": "code",
   "execution_count": 16,
   "metadata": {
    "collapsed": false
   },
   "outputs": [],
   "source": [
    "Rating = namedtuple('Rating', ['Rating', 'User', 'Object'])\n",
    "\n",
    "class RatingsGraph:\n",
    "    def __init__(self, ratings, gold_ratings, movie_genres, alpha):\n",
    "        self.alpha = alpha\n",
    "        self.ratings = ratings \n",
    "        self.gold_ratings_dict = gold_ratings #(object, gold_rating)\n",
    "        \n",
    "        user_set = set([rating.User for rating in self.ratings]) \n",
    "        users_lookup = {user: i for i, user in enumerate(user_set)}\n",
    "        object_set = set([rating.Object for rating in self.ratings])\n",
    "        objects_lookup = {obj: i for i, obj in enumerate(object_set)}\n",
    "        \n",
    "        num_users, num_objects = len(user_set), len(object_set)\n",
    "        self.bias_diffs = []\n",
    "        \n",
    "        # create adjacency matrix from ratings\n",
    "        self.adjacency = np.zeros([num_users, num_objects]) - 1 #set them to -1 bc rating can be 0\n",
    "        for rating in self.ratings:\n",
    "            idx_user = users_lookup[rating.User]\n",
    "            idx_obj = objects_lookup[rating.Object]\n",
    "            self.adjacency[idx_user, idx_obj] = rating.Rating\n",
    "        \n",
    "        # create genres vectors and similarity matrix\n",
    "        num_genres = max([genre for movie, genre_list in movie_genres.iteritems() for genre in genre_list]) + 1\n",
    "        genre_vectors = np.zeros((num_objects, num_genres))\n",
    "        for movie, idx in objects_lookup.iteritems():\n",
    "            for genre in movie_genres[movie]:\n",
    "                genre_vectors[idx, genre] = 1\n",
    "        self.similarity = 1-distance.cdist(genre_vectors, genre_vectors, 'euclidean')\n",
    "        # precalculate sum of similarities over movies for each user\n",
    "        self.user_sum_similarity = np.expand_dims(1.0/np.sum((self.adjacency >= 0).dot(self.similarity),1), axis=1)\n",
    "\n",
    "        self.true_ratings = np.random.uniform(low = 0, high = 1, size = (num_objects, 1))\n",
    "        self.biases = np.random.uniform(low = -1, high = 1, size = (num_users, num_objects))\n",
    "        \n",
    "        self.gold_ratings = np.zeros([num_objects, 1]) - 1\n",
    "        for obj, gold_rating in self.gold_ratings_dict.iteritems():\n",
    "            try:\n",
    "                obj_idx = objects_lookup[obj]\n",
    "                self.gold_ratings[obj_idx] = gold_rating\n",
    "            except: continue\n",
    "    \n",
    "    def perform_single_iteration(self):\n",
    "        converged = True\n",
    "        alpha = self.alpha\n",
    "        \n",
    "        original_ratings = self.true_ratings.copy()\n",
    "        # subtract user biases from all ratings, but only where rating existed in first place!\n",
    "        updated_ratings = np.multiply((self.adjacency >= 0), self.adjacency - alpha*self.biases)\n",
    "        self.true_ratings = (1.0/np.sum(self.adjacency >= 0, axis = 0))* \\\n",
    "            np.sum(np.maximum(np.zeros(self.adjacency.shape),\n",
    "                       np.minimum(np.ones(self.adjacency.shape), updated_ratings))\n",
    "            , axis = 0)\n",
    "            \n",
    "        max_diff = np.max(np.absolute(original_ratings - np.expand_dims(self.true_ratings,1)))\n",
    "        if max_diff > 0.00001:  \n",
    "            converged = False\n",
    "            \n",
    "        original_bias = self.biases.copy()\n",
    "        # subtract true ratings from given ratings - only where a rating was originally given!\n",
    "        self.biases = self.user_sum_similarity * \\\n",
    "            (np.multiply((self.adjacency >= 0), self.adjacency - self.true_ratings)).dot(self.similarity)\n",
    "                 \n",
    "        bias_diff = np.absolute(original_bias - self.biases)\n",
    "        if np.max(bias_diff) > 0.00001:\n",
    "            converged = False\n",
    "        self.bias_diffs.append(np.sum(bias_diff))\n",
    "        #print \"Bias Diff: {}\".format(np.sum(bias_diff))        \n",
    "        \n",
    "        self.true_ratings = np.expand_dims(self.true_ratings, axis=1) # to make the shapes work\n",
    "        \n",
    "        return converged\n",
    "    \n",
    "    def get_test_error(self):\n",
    "        num_gold_ratings = np.sum(self.gold_ratings >= 0)\n",
    "        pred_ratings = (self.gold_ratings >= 0)*self.true_ratings # if not in gold ratings, set to 0\n",
    "        gold_ratings_given = (self.gold_ratings >= 0) * self.gold_ratings\n",
    "        return 1.0/num_gold_ratings * np.sum(np.square(pred_ratings - gold_ratings_given))\n",
    "            \n",
    "    def iterate_until_convergence(self):\n",
    "        errors = []\n",
    "        converged = False\n",
    "        counter = 0\n",
    "        max_iter = 100\n",
    "        while not converged and counter < max_iter:\n",
    "            error = self.get_test_error()\n",
    "            print (error)\n",
    "            errors.append(error)\n",
    "            converged = self.perform_single_iteration()\n",
    "            counter += 1\n",
    "        return errors"
   ]
  },
  {
   "cell_type": "code",
   "execution_count": 18,
   "metadata": {
    "collapsed": false,
    "scrolled": true
   },
   "outputs": [
    {
     "name": "stdout",
     "output_type": "stream",
     "text": [
      "62.11946220488271\n",
      "61.4955053225551\n",
      "61.49332499742239\n"
     ]
    }
   ],
   "source": [
    "ratings_graph = RatingsGraph(ratings, movie_critic_ratings, movie_genres, alpha=0.1)\n",
    "errors = ratings_graph.iterate_until_convergence()\n",
    "alpha_01_y = ratings_graph.bias_diffs"
   ]
  },
  {
   "cell_type": "code",
   "execution_count": 19,
   "metadata": {
    "collapsed": false,
    "scrolled": true
   },
   "outputs": [
    {
     "name": "stdout",
     "output_type": "stream",
     "text": [
      "62.100019134203976\n",
      "61.505377430849144\n",
      "61.49332517351349\n"
     ]
    }
   ],
   "source": [
    "ratings_graph = RatingsGraph(ratings, movie_critic_ratings, movie_genres, alpha=0.2)\n",
    "errors = ratings_graph.iterate_until_convergence()\n",
    "alpha_02_y = ratings_graph.bias_diffs"
   ]
  },
  {
   "cell_type": "code",
   "execution_count": 20,
   "metadata": {
    "collapsed": false
   },
   "outputs": [
    {
     "name": "stdout",
     "output_type": "stream",
     "text": [
      "62.16316292698287\n",
      "61.5854831619719\n",
      "61.493329949096065\n"
     ]
    }
   ],
   "source": [
    "ratings_graph = RatingsGraph(ratings, movie_critic_ratings, movie_genres, alpha=0.5)\n",
    "errors = ratings_graph.iterate_until_convergence()\n",
    "alpha_05_y = ratings_graph.bias_diffs"
   ]
  },
  {
   "cell_type": "code",
   "execution_count": 21,
   "metadata": {
    "collapsed": false
   },
   "outputs": [
    {
     "data": {
      "text/plain": [
       "<matplotlib.text.Text at 0x7f23a2d22190>"
      ]
     },
     "execution_count": 21,
     "metadata": {},
     "output_type": "execute_result"
    },
    {
     "data": {
      "image/png": "[encoded data removed]",
      "text/plain": [
       "<matplotlib.figure.Figure at 0x7f23a2e1e990>"
      ]
     },
     "metadata": {},
     "output_type": "display_data"
    }
   ],
   "source": [
    "plt.plot([i+1 for i in range(len(alpha_01_y))], [np.log(y) for y in alpha_01_y], 'orange', label='alpha = 0.1')\n",
    "plt.plot([i+1 for i in range(len(alpha_02_y))], [np.log(y) for y in alpha_02_y], '-b', label='alpha = 0.2')\n",
    "plt.plot([i+1 for i in range(len(alpha_05_y))], [np.log(y) for y in alpha_05_y], '-g', label='alpha = 0.5')\n",
    "plt.legend()\n",
    "plt.title('Bias Convergence Error by Epoch')\n",
    "plt.xlabel('Epoch Number')\n",
    "plt.ylabel('Log Bias Convergence Error')"
   ]
  }
 ],
 "metadata": {
  "kernelspec": {
   "display_name": "Python 2",
   "language": "python",
   "name": "python2"
  },
  "language_info": {
   "codemirror_mode": {
    "name": "ipython",
    "version": 2
   },
   "file_extension": ".py",
   "mimetype": "text/x-python",
   "name": "python",
   "nbconvert_exporter": "python",
   "pygments_lexer": "ipython2",
   "version": "2.7.15"
  }
 },
 "nbformat": 4,
 "nbformat_minor": 2
}
