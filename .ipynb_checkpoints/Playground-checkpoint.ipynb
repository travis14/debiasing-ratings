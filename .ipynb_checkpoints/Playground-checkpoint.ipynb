{
 "cells": [
  {
   "cell_type": "markdown",
   "metadata": {},
   "source": [
    "# Libraries"
   ]
  },
  {
   "cell_type": "code",
   "execution_count": 111,
   "metadata": {},
   "outputs": [],
   "source": [
    "import snap\n",
    "import collections\n",
    "from collections import namedtuple\n",
    "import numpy as np\n",
    "import pdb\n",
    "import pandas as pd\n",
    "from sklearn.metrics import mean_squared_error\n",
    "import copy\n",
    "import matplotlib.pylab as plt\n",
    "%matplotlib inline"
   ]
  },
  {
   "cell_type": "markdown",
   "metadata": {},
   "source": [
    "# Defining the Ratings Graph Class"
   ]
  },
  {
   "cell_type": "code",
   "execution_count": 102,
   "metadata": {},
   "outputs": [],
   "source": [
    "Rating = namedtuple('Rating', ['Rating', 'User', 'Object'])\n",
    "\n",
    "class RatingsGraph:\n",
    "    def __init__(self, ratings, gold_ratings, alpha):\n",
    "        self.alpha = alpha\n",
    "        self.ratings = ratings\n",
    "        self.gold_ratings = gold_ratings\n",
    "        \n",
    "        self.users = set([rating.User for rating in self.ratings])\n",
    "        self.objects = set([rating.Object for rating in self.ratings])\n",
    "        \n",
    "        self.bias_diffs = []\n",
    "        \n",
    "        self.user_ratings = collections.defaultdict(list)\n",
    "        self.object_ratings = collections.defaultdict(list)\n",
    "        self.user_object_ratings = {}\n",
    "        \n",
    "        for rating in self.ratings:\n",
    "            self.user_ratings[rating.User].append(rating.Object)\n",
    "            self.object_ratings[rating.Object].append(rating.User)\n",
    "            self.user_object_ratings[(rating.User, rating.Object)] = rating.Rating\n",
    "        \n",
    "        self.biases = {user: np.random.uniform(-1, 1) for user in self.users}\n",
    "        self.true_ratings = {obj: np.random.uniform(0, 1) for obj in self.objects}        \n",
    "        \n",
    "    def get_user_ratings(self, user):\n",
    "        return self.user_ratings[rating.User]\n",
    "    \n",
    "    def get_object_ratings(self, obj):\n",
    "        return self.object_ratings[obj]\n",
    "    \n",
    "    def perform_single_iteration(self):\n",
    "        converged = True\n",
    "        \n",
    "        alpha = self.alpha\n",
    "        \n",
    "        for obj in self.objects:\n",
    "            original_rating = self.true_ratings[obj]\n",
    "            self.true_ratings[obj] = sum([(1.0 / len(self.object_ratings[obj])) * \\\n",
    "                            max(0, (min(1, self.user_object_ratings[(user, obj)]-alpha*self.biases[user])))\\\n",
    "                                    for user in self.object_ratings[obj]])\n",
    "            if abs(original_rating - self.true_ratings[obj]) > 0.00001:\n",
    "                converged = False\n",
    "            \n",
    "        bias_diff = 0\n",
    "        \n",
    "        for user in self.users: \n",
    "            original_bias = self.biases[user]\n",
    "            self.biases[user] = sum([(1.0 / len(self.user_ratings[user])) * \\\n",
    "                                     (self.user_object_ratings[(user, obj)] - self.true_ratings[obj]) \\\n",
    "                                    for obj in self.user_ratings[user]])\n",
    "        \n",
    "            bias_diff += abs(original_bias - self.biases[user])\n",
    "            \n",
    "            if abs(original_bias - self.biases[user]) > 0.00001:\n",
    "                converged = False\n",
    "        self.bias_diffs.append(bias_diff)\n",
    "        return converged\n",
    "    \n",
    "    def get_test_error(self):\n",
    "        pred_ratings = [self.true_ratings[obj_id] for obj_id in self.gold_ratings if obj_id in self.true_ratings]\n",
    "        test_ratings = [self.gold_ratings[obj_id] for obj_id in self.gold_ratings if obj_id in self.true_ratings]\n",
    "        \n",
    "        return mean_squared_error(pred_ratings, test_ratings)\n",
    "            \n",
    "    def iterate_until_convergence(self):\n",
    "        errors = []\n",
    "        \n",
    "        converged = False\n",
    "        while not converged:\n",
    "            error = self.get_test_error()\n",
    "            print (error)\n",
    "            errors.append(error)\n",
    "            converged = self.perform_single_iteration()\n",
    "        return errors"
   ]
  },
  {
   "cell_type": "code",
   "execution_count": 50,
   "metadata": {},
   "outputs": [],
   "source": [
    "def isfloat(value):\n",
    "    try:\n",
    "        float(value)\n",
    "        return True\n",
    "    except ValueError:\n",
    "        return False\n",
    "\n",
    "def get_data_set():\n",
    "    movie_critic_ratings = {}\n",
    "    \n",
    "    movie_header_indeces = {}\n",
    "    for line in open('data/grouplens/movies.dat'):\n",
    "        line = line.strip()\n",
    "        if not movie_header_indeces:\n",
    "            for i, column in enumerate(line.split('\\t')):\n",
    "                movie_header_indeces[column] = i\n",
    "            continue\n",
    "        NUM_TOP_CRITICS_REVIEWS_IDX = movie_header_indeces['rtTopCriticsNumReviews']\n",
    "        TOP_CRITICS_RATING_IDX = movie_header_indeces['rtTopCriticsRating']\n",
    "        \n",
    "        movie_id, critic_rating, num_critic_ratings = line.split()[0], line.split()[TOP_CRITICS_RATING_IDX], line.split()[NUM_TOP_CRITICS_REVIEWS_IDX]\n",
    "        \n",
    "        if isfloat(num_critic_ratings) and (num_critic_ratings > 10) and isfloat(critic_rating):\n",
    "            critic_rating = float(critic_rating) / 10.0\n",
    "            movie_critic_ratings[movie_id] = critic_rating\n",
    "        \n",
    "    user_rating_header_indeces = {}\n",
    "    ratings = []\n",
    "    for line in open('data/grouplens/user_ratedmovies.dat'):\n",
    "        line = line.strip()\n",
    "        if not user_rating_header_indeces:\n",
    "            for i, column in enumerate(line.split('\\t')):\n",
    "                user_rating_header_indeces[column] = i\n",
    "            continue\n",
    "        \n",
    "        user_id, movie_id, rating = line.split()[0], line.split()[1], line.split()[2]\n",
    "        rating = float(rating) / 5.0\n",
    "        ratings.append(Rating(Rating=rating, User=user_id, Object=movie_id))\n",
    "    \n",
    "    return ratings, movie_critic_ratings\n",
    "\n",
    "ratings, movie_critic_ratings = get_data_set()"
   ]
  },
  {
   "cell_type": "code",
   "execution_count": 103,
   "metadata": {},
   "outputs": [
    {
     "name": "stdout",
     "output_type": "stream",
     "text": [
      "62.160361344\n",
      "61.5071062458\n",
      "61.4944547594\n",
      "61.4932209067\n",
      "61.4930962662\n",
      "[1060.7027209712728, 8.151491760725987, 0.7153737296671119, 0.06850560075491723, 0.006667511431112653]\n"
     ]
    }
   ],
   "source": [
    "ratings_graph = RatingsGraph(ratings, movie_critic_ratings, alpha=0.1)\n",
    "errors = ratings_graph.iterate_until_convergence()\n",
    "print (ratings_graph.bias_diffs)"
   ]
  },
  {
   "cell_type": "code",
   "execution_count": 105,
   "metadata": {},
   "outputs": [
    {
     "name": "stdout",
     "output_type": "stream",
     "text": [
      "62.2608895861\n",
      "61.5021945353\n",
      "61.4943027386\n",
      "61.4932109435\n",
      "61.4929990984\n",
      "61.4929575543\n",
      "[1070.5935889341972, 4.564030247992877, 0.612904383225149, 0.11645027071102854, 0.022635037211159174, 0.004417496078544927]\n"
     ]
    }
   ],
   "source": [
    "ratings_graph = RatingsGraph(ratings, movie_critic_ratings, alpha=0.2)\n",
    "errors = ratings_graph.iterate_until_convergence()\n",
    "print (ratings_graph.bias_diffs)"
   ]
  },
  {
   "cell_type": "code",
   "execution_count": 106,
   "metadata": {},
   "outputs": [
    {
     "name": "stdout",
     "output_type": "stream",
     "text": [
      "62.1164240282\n",
      "61.494156398\n",
      "61.5124411135\n",
      "61.5044875505\n",
      "61.4991806347\n",
      "61.4964588675\n",
      "61.4951173387\n",
      "61.4944608082\n",
      "61.4941399724\n",
      "61.4939832273\n",
      "61.4939066522\n",
      "61.4938692429\n",
      "[1053.1551336990312, 25.10273404110145, 7.154351826286142, 3.1423294052572497, 1.5036110680676322, 0.7318008354801494, 0.35723892532225704, 0.17449089566980958, 0.08524172566812642, 0.041643162313176836, 0.020344054518165375, 0.009938663773250384]\n"
     ]
    }
   ],
   "source": [
    "ratings_graph = RatingsGraph(ratings, movie_critic_ratings, alpha=0.5)\n",
    "errors = ratings_graph.iterate_until_convergence()\n",
    "print (ratings_graph.bias_diffs)"
   ]
  },
  {
   "cell_type": "code",
   "execution_count": 118,
   "metadata": {},
   "outputs": [
    {
     "data": {
      "text/plain": [
       "Text(0,0.5,u'Log Bias Convergence Error')"
      ]
     },
     "execution_count": 118,
     "metadata": {},
     "output_type": "execute_result"
    },
    {
     "data": {
      "image/png": "[encoded data removed]",
      "text/plain": [
       "<matplotlib.figure.Figure at 0x108e15590>"
      ]
     },
     "metadata": {},
     "output_type": "display_data"
    }
   ],
   "source": [
    "alpha1_y = [1060.7027209712728, 8.151491760725987, 0.7153737296671119, 0.06850560075491723, 0.006667511431112653]\n",
    "alpha2_y = [1070.5935889341972, 4.564030247992877, 0.612904383225149, 0.11645027071102854, 0.022635037211159174, 0.004417496078544927]\n",
    "alpha3_y = [1053.1551336990312, 25.10273404110145, 7.154351826286142, 3.1423294052572497, 1.5036110680676322, 0.7318008354801494, 0.35723892532225704, 0.17449089566980958, 0.08524172566812642, 0.041643162313176836, 0.020344054518165375, 0.009938663773250384]\n",
    "\n",
    "plt.plot([i+1 for i in range(len(alpha1_y))], [np.log(y) for y in alpha1_y], 'orange', label='alpha = 0.1')\n",
    "plt.plot([i+1 for i in range(len(alpha2_y))], [np.log(y) for y in alpha2_y], '-b', label='alpha = 0.2')\n",
    "plt.plot([i+1 for i in range(len(alpha3_y))], [np.log(y) for y in alpha3_y], '-g', label='alpha = 0.5')\n",
    "plt.legend(loc='Upper Right')\n",
    "plt.title('Bias Convergence Error by Epoch')\n",
    "plt.xlabel('Epoch Number')\n",
    "plt.ylabel('Log Bias Convergence Error')"
   ]
  },
  {
   "cell_type": "code",
   "execution_count": 39,
   "metadata": {},
   "outputs": [],
   "source": [
    "user_ratings_df = pd.read_table('data/grouplens/user_ratedmovies.dat', sep=\"\\t\")\n",
    "movie_ratings_df = pd.read_table('data/grouplens/movies.dat', sep=\"\\t\")"
   ]
  }
 ],
 "metadata": {
  "kernelspec": {
   "display_name": "Python 2",
   "language": "python",
   "name": "python2"
  },
  "language_info": {
   "codemirror_mode": {
    "name": "ipython",
    "version": 2
   },
   "file_extension": ".py",
   "mimetype": "text/x-python",
   "name": "python",
   "nbconvert_exporter": "python",
   "pygments_lexer": "ipython2",
   "version": "2.7.14"
  }
 },
 "nbformat": 4,
 "nbformat_minor": 2
}
