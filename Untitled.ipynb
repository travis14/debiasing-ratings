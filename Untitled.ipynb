{
 "cells": [
  {
   "cell_type": "code",
   "execution_count": 5,
   "metadata": {},
   "outputs": [],
   "source": [
    "import numpy as np\n",
    "from probability_model import *"
   ]
  },
  {
   "cell_type": "code",
   "execution_count": 6,
   "metadata": {},
   "outputs": [],
   "source": [
    "def gen_ratings_graph(graph_thickness, user_type_counts, entity_type_counts, ground_truth_fn, user_type_ratings, similarity_fn):\n",
    "    num_users, num_entities = np.sum(user_type_counts), np.sum(entity_type_counts)\n",
    "    ratings_graph = np.random.rand(num_users, num_entities) <= graph_thickness\n",
    "    \n",
    "    user_types = np.random.permutation(np.repeat(np.arange(user_type_counts.shape[0]), user_type_counts))\n",
    "    entity_types = np.random.permutation(np.repeat(np.arange(entity_type_counts.shape[0]), entity_type_counts))\n",
    "    \n",
    "    ground_truth_ratings = np.vectorize(ground_truth_fn)(entity_types)\n",
    "    \n",
    "    ratings_matrix = np.zeros((num_users, num_entities))\n",
    "    for user in range(num_users):\n",
    "        for entity in range(num_entities):\n",
    "            ratings_matrix[user, entity] = user_type_ratings(user_types[user], entity_types[entity])\n",
    "\n",
    "    similarity_matrix = np.zeros((num_entities, num_entities))\n",
    "    for entity in range(num_entities):\n",
    "        for entity_2 in range(entity, num_entities):\n",
    "            similarity_matrix[entity, entity_2] = similarity_fn(entity_types[entity], entity_types[entity_2])\n",
    "            similarity_matrix[entity_2, entity] = similarity_matrix[entity, entity_2] \n",
    "            \n",
    "    return ratings_graph, ratings_matrix, ground_truth_ratings, user_types, entity_types, similarity_matrix"
   ]
  },
  {
   "cell_type": "code",
   "execution_count": 7,
   "metadata": {},
   "outputs": [],
   "source": [
    "def ground_truth_rating_fn(entity_type):\n",
    "    # uniform!\n",
    "    return np.random.beta(10,10)\n",
    "\n",
    "def user_type_rating_fn(user_type, entity_type):\n",
    "    #np.random.seed(np.random.randint(0,10))\n",
    "    # user and item of same type\n",
    "    alpha_same, beta_same = 50, 5\n",
    "    alpha_diff, beta_diff = 15, 30\n",
    "    if user_type == entity_type:\n",
    "        return np.random.beta(alpha_same, beta_same)\n",
    "    else:\n",
    "        return np.random.beta(alpha_diff, beta_diff)\n",
    "\n",
    "def similarity_fn(entity_type_1, entity_type_2):\n",
    "    alpha_same, beta_same = 50, 10\n",
    "    alpha_diff, beta_diff = 12, 55\n",
    "    if entity_type_1 == entity_type_2:\n",
    "        return np.random.beta(alpha_same, beta_same)\n",
    "    else:\n",
    "        return np.random.beta(alpha_diff, beta_diff)\n",
    "    \n",
    "ratings_graph, ratings_matrix, ground_truth_ratings, user_types, entity_types, similarity = gen_ratings_graph(0.4, \\\n",
    "                                                                        (100*np.array([0.5, 0.5])).astype(int), \\\n",
    "                                                                        (60*np.array([0.5, 0.5])).astype(int), \\\n",
    "                                                                        ground_truth_rating_fn,\n",
    "                                                                        user_type_rating_fn,\n",
    "                                                                        similarity_fn)"
   ]
  },
  {
   "cell_type": "code",
   "execution_count": 8,
   "metadata": {},
   "outputs": [
    {
     "name": "stdout",
     "output_type": "stream",
     "text": [
      "('NR Iterations', 100, array([-0.86830898,  0.02073649, -0.05213311]))\n",
      "('NR Iterations', 200, array([-1.00109809, -0.04718072, -0.07142439]))\n",
      "('NR Iterations', 300, array([-1.04243692, -0.0714581 , -0.05205526]))\n",
      "('NR Iterations', 400, array([-1.05689211, -0.07974244, -0.03574467]))\n",
      "('NR Iterations', 500, array([-1.06260992, -0.08226341, -0.02620319]))\n",
      "('NR Iterations', 600, array([-1.06513011, -0.08282317, -0.0211993 ]))\n",
      "('NR Iterations', 700, array([-1.06633024, -0.08279387, -0.01868307]))\n",
      "('NR Iterations', 800, array([-1.06692956, -0.08264055, -0.01743696]))\n",
      "('NR Iterations', 900, array([-1.06723691, -0.0825008 , -0.01682163]))\n",
      "('NR Iterations', 1000, array([-1.06739679, -0.08240186, -0.01651683]))\n",
      "('NR Iterations', 1100, array([-1.06748057, -0.08233883, -0.01636495]))\n",
      "('EM Iterations:', 10, array([-1.06763176, -0.08228828, -0.01626663]))\n",
      "('EM Iterations:', 20, array([-1.0677813 , -0.08227178, -0.01624323]))\n",
      "('EM Iterations:', 30, array([-1.06792988, -0.08226692, -0.01624061]))\n",
      "('EM Iterations:', 40, array([-1.06808804, -0.08226211, -0.01624131]))\n"
     ]
    },
    {
     "ename": "KeyboardInterrupt",
     "evalue": "",
     "output_type": "error",
     "traceback": [
      "\u001b[0;31m---------------------------------------------------------------------------\u001b[0m",
      "\u001b[0;31mKeyboardInterrupt\u001b[0m                         Traceback (most recent call last)",
      "\u001b[0;32m<ipython-input-8-a410967904a8>\u001b[0m in \u001b[0;36m<module>\u001b[0;34m()\u001b[0m\n\u001b[0;32m----> 1\u001b[0;31m \u001b[0mfitted_params\u001b[0m \u001b[0;34m=\u001b[0m \u001b[0mfit_probability_model\u001b[0m\u001b[0;34m(\u001b[0m\u001b[0mratings_graph\u001b[0m\u001b[0;34m,\u001b[0m \u001b[0mratings_matrix\u001b[0m\u001b[0;34m,\u001b[0m \u001b[0mentity_types\u001b[0m\u001b[0;34m[\u001b[0m\u001b[0;34m:\u001b[0m\u001b[0;34m,\u001b[0m \u001b[0mNone\u001b[0m\u001b[0;34m]\u001b[0m\u001b[0;34m,\u001b[0m \u001b[0muser_types\u001b[0m\u001b[0;34m[\u001b[0m\u001b[0;34m:\u001b[0m\u001b[0;34m,\u001b[0m \u001b[0mNone\u001b[0m\u001b[0;34m]\u001b[0m\u001b[0;34m)\u001b[0m\u001b[0;34m\u001b[0m\u001b[0m\n\u001b[0m",
      "\u001b[0;32m/Users/bradross/Google Drive/School/Fall/CS269I/debiasing-ratings/probability_model.py\u001b[0m in \u001b[0;36mfit_probability_model\u001b[0;34m(ratings_graph, ratings_matrix, entity_attrs, user_attrs)\u001b[0m\n\u001b[1;32m    102\u001b[0m                 \u001b[0;32mwhile\u001b[0m \u001b[0mnewton_raphson_iters\u001b[0m \u001b[0;34m==\u001b[0m \u001b[0;36m0\u001b[0m \u001b[0;32mor\u001b[0m \u001b[0mparams_not_converged\u001b[0m\u001b[0;34m(\u001b[0m\u001b[0mparams\u001b[0m\u001b[0;34m,\u001b[0m \u001b[0mnewton_raphson_prev_params\u001b[0m\u001b[0;34m)\u001b[0m\u001b[0;34m:\u001b[0m\u001b[0;34m\u001b[0m\u001b[0m\n\u001b[1;32m    103\u001b[0m                         \u001b[0;31m#hessian = hessian_cond_rating_prob(ratings_graph.T, poster_rating_probs, covariates, params)\u001b[0m\u001b[0;34m\u001b[0m\u001b[0;34m\u001b[0m\u001b[0m\n\u001b[0;32m--> 104\u001b[0;31m                         \u001b[0mgradient\u001b[0m \u001b[0;34m=\u001b[0m \u001b[0mgradient_cond_rating_prob\u001b[0m\u001b[0;34m(\u001b[0m\u001b[0mna_ratings_matrix\u001b[0m\u001b[0;34m,\u001b[0m \u001b[0mposter_rating_probs\u001b[0m\u001b[0;34m,\u001b[0m \u001b[0mcovariates\u001b[0m\u001b[0;34m,\u001b[0m \u001b[0mparams\u001b[0m\u001b[0;34m)\u001b[0m\u001b[0;34m\u001b[0m\u001b[0m\n\u001b[0m\u001b[1;32m    105\u001b[0m                         \u001b[0mnew_params\u001b[0m \u001b[0;34m=\u001b[0m \u001b[0mnp\u001b[0m\u001b[0;34m.\u001b[0m\u001b[0mhstack\u001b[0m\u001b[0;34m(\u001b[0m\u001b[0;34m(\u001b[0m\u001b[0mparams\u001b[0m\u001b[0;34m[\u001b[0m\u001b[0;34m'mu'\u001b[0m\u001b[0;34m]\u001b[0m\u001b[0;34m,\u001b[0m \u001b[0mparams\u001b[0m\u001b[0;34m[\u001b[0m\u001b[0;34m'gamma'\u001b[0m\u001b[0;34m]\u001b[0m\u001b[0;34m)\u001b[0m\u001b[0;34m)\u001b[0m \u001b[0;34m+\u001b[0m \u001b[0;36m0.00001\u001b[0m\u001b[0;34m*\u001b[0m\u001b[0mgradient\u001b[0m\u001b[0;31m#- np.linalg.inv(hessian).dot(gradient)\u001b[0m\u001b[0;34m\u001b[0m\u001b[0m\n\u001b[1;32m    106\u001b[0m \u001b[0;34m\u001b[0m\u001b[0m\n",
      "\u001b[0;32m/Users/bradross/Google Drive/School/Fall/CS269I/debiasing-ratings/probability_model.py\u001b[0m in \u001b[0;36mgradient_cond_rating_prob\u001b[0;34m(na_ratings_matrix, poster_rating_probs, covariates, params)\u001b[0m\n\u001b[1;32m     43\u001b[0m         \u001b[0;31m#print(covariates.shape, params['gamma'].shape)\u001b[0m\u001b[0;34m\u001b[0m\u001b[0;34m\u001b[0m\u001b[0m\n\u001b[1;32m     44\u001b[0m \trating_diffs = [logit(na_ratings_matrix) - covariates.dot(gamma) - mu[0], \n\u001b[0;32m---> 45\u001b[0;31m \t\t\t\t\t\tlogit(na_ratings_matrix) - covariates.dot(gamma) - mu[1]]\n\u001b[0m\u001b[1;32m     46\u001b[0m \tmu_grad = np.array([np.sum(poster_rating_probs[:, r]*np.nansum(rating_diffs[r], axis=1))/sigma_sq \\\n\u001b[1;32m     47\u001b[0m \t\t\t\t\t\tfor r in range(2)])\n",
      "\u001b[0;31mKeyboardInterrupt\u001b[0m: "
     ]
    }
   ],
   "source": [
    "fitted_params = fit_probability_model(ratings_graph, ratings_matrix, entity_types[:, None], user_types[:, None])"
   ]
  },
  {
   "cell_type": "code",
   "execution_count": null,
   "metadata": {},
   "outputs": [],
   "source": [
    "ground_truth_ratings"
   ]
  },
  {
   "cell_type": "code",
   "execution_count": null,
   "metadata": {},
   "outputs": [],
   "source": []
  }
 ],
 "metadata": {
  "kernelspec": {
   "display_name": "Python 2",
   "language": "python",
   "name": "python2"
  }
 },
 "nbformat": 4,
 "nbformat_minor": 2
}
