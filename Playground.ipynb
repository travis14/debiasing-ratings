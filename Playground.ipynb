{
 "cells": [
  {
   "cell_type": "markdown",
   "metadata": {},
   "source": [
    "# Libraries"
   ]
  },
  {
   "cell_type": "code",
   "execution_count": 1,
   "metadata": {
    "collapsed": false
   },
   "outputs": [
    {
     "data": {
      "text/plain": [
       "'/home/avgupta/anaconda2/bin/python2'"
      ]
     },
     "execution_count": 1,
     "metadata": {},
     "output_type": "execute_result"
    }
   ],
   "source": [
    "import sys\n",
    "sys.executable"
   ]
  },
  {
   "cell_type": "code",
   "execution_count": 2,
   "metadata": {
    "collapsed": false
   },
   "outputs": [],
   "source": [
    "#import snap\n",
    "import collections\n",
    "from collections import namedtuple\n",
    "import numpy as np\n",
    "import pdb\n",
    "import pandas as pd\n",
    "from sklearn.metrics import mean_squared_error\n",
    "import copy\n",
    "import matplotlib.pylab as plt\n",
    "%matplotlib inline"
   ]
  },
  {
   "cell_type": "code",
   "execution_count": 12,
   "metadata": {
    "collapsed": true
   },
   "outputs": [],
   "source": [
    "np.random.seed(3)"
   ]
  },
  {
   "cell_type": "markdown",
   "metadata": {},
   "source": [
    "# Defining the Ratings Graph Class"
   ]
  },
  {
   "cell_type": "code",
   "execution_count": 18,
   "metadata": {
    "collapsed": true
   },
   "outputs": [],
   "source": [
    "Rating = namedtuple('Rating', ['Rating', 'User', 'Object'])\n",
    "\n",
    "class RatingsGraph:\n",
    "    def __init__(self, ratings, gold_ratings, alpha):\n",
    "        self.alpha = alpha\n",
    "        self.ratings = ratings\n",
    "        self.gold_ratings = gold_ratings\n",
    "        \n",
    "        self.users = set([rating.User for rating in self.ratings])\n",
    "        self.objects = set([rating.Object for rating in self.ratings])\n",
    "        \n",
    "        self.bias_diffs = []\n",
    "        \n",
    "        self.user_ratings = collections.defaultdict(list)\n",
    "        self.object_ratings = collections.defaultdict(list)\n",
    "        self.user_object_ratings = {}\n",
    "        \n",
    "        for rating in self.ratings:\n",
    "            self.user_ratings[rating.User].append(rating.Object)\n",
    "            self.object_ratings[rating.Object].append(rating.User)\n",
    "            self.user_object_ratings[(rating.User, rating.Object)] = rating.Rating\n",
    "        \n",
    "        self.biases = {user: np.random.uniform(-1, 1) for user in self.users}\n",
    "        self.true_ratings = {obj: np.random.uniform(0, 1) for obj in self.objects}        \n",
    "        \n",
    "    def get_user_ratings(self, user):\n",
    "        return self.user_ratings[rating.User]\n",
    "    \n",
    "    def get_object_ratings(self, obj):\n",
    "        return self.object_ratings[obj]\n",
    "    \n",
    "    def perform_single_iteration(self):\n",
    "        converged = True\n",
    "        \n",
    "        alpha = self.alpha\n",
    "        \n",
    "        max_diff = 0\n",
    "        \n",
    "        for obj in self.objects:\n",
    "            original_rating = self.true_ratings[obj]\n",
    "            self.true_ratings[obj] = sum([(1.0 / len(self.object_ratings[obj])) * \\\n",
    "                            max(0, (min(1, self.user_object_ratings[(user, obj)]-alpha*self.biases[user])))\\\n",
    "                                    for user in self.object_ratings[obj]])\n",
    "            if abs(original_rating - self.true_ratings[obj]) > 0.00001:\n",
    "                if abs(original_rating - self.true_ratings[obj]) > max_diff:\n",
    "                    max_diff = abs(original_rating - self.true_ratings[obj])\n",
    "                converged = False\n",
    "        #print \"Ratings Diff: {}\".format(max_diff)\n",
    "            \n",
    "        bias_diff = 0\n",
    "        \n",
    "        for user in self.users: \n",
    "            original_bias = self.biases[user]\n",
    "            self.biases[user] = sum([(1.0 / len(self.user_ratings[user])) * \\\n",
    "                                     (self.user_object_ratings[(user, obj)] - self.true_ratings[obj]) \\\n",
    "                                    for obj in self.user_ratings[user]])\n",
    "        \n",
    "            bias_diff += abs(original_bias - self.biases[user])\n",
    "            \n",
    "            if abs(original_bias - self.biases[user]) > 0.00001:\n",
    "                converged = False\n",
    "                \n",
    "        #print \"Bias Diff: {}\".format(np.sum(bias_diff))\n",
    "        self.bias_diffs.append(bias_diff)\n",
    "        return converged\n",
    "    \n",
    "    def get_test_error(self):\n",
    "        pred_ratings = [self.true_ratings[obj_id] for obj_id in self.gold_ratings if obj_id in self.true_ratings]\n",
    "        test_ratings = [self.gold_ratings[obj_id] for obj_id in self.gold_ratings if obj_id in self.true_ratings]\n",
    "        return mean_squared_error(pred_ratings, test_ratings)\n",
    "            \n",
    "    def iterate_until_convergence(self):\n",
    "        errors = []\n",
    "        \n",
    "        converged = False\n",
    "        while not converged:\n",
    "            error = self.get_test_error()\n",
    "            print (error)\n",
    "            errors.append(error)\n",
    "            converged = self.perform_single_iteration()\n",
    "        return errors"
   ]
  },
  {
   "cell_type": "code",
   "execution_count": 14,
   "metadata": {
    "collapsed": true
   },
   "outputs": [],
   "source": [
    "def isfloat(value):\n",
    "    try:\n",
    "        float(value)\n",
    "        return True\n",
    "    except ValueError:\n",
    "        return False\n",
    "\n",
    "def get_data_set():\n",
    "    movie_critic_ratings = {}\n",
    "    \n",
    "    movie_header_indeces = {}\n",
    "    for line in open('data/grouplens/movies.dat'):\n",
    "        line = line.strip()\n",
    "        if not movie_header_indeces:\n",
    "            for i, column in enumerate(line.split('\\t')):\n",
    "                movie_header_indeces[column] = i\n",
    "            continue\n",
    "        NUM_TOP_CRITICS_REVIEWS_IDX = movie_header_indeces['rtTopCriticsNumReviews']\n",
    "        TOP_CRITICS_RATING_IDX = movie_header_indeces['rtTopCriticsRating']\n",
    "        \n",
    "        movie_id, critic_rating, num_critic_ratings = line.split()[0], line.split()[TOP_CRITICS_RATING_IDX], line.split()[NUM_TOP_CRITICS_REVIEWS_IDX]\n",
    "        \n",
    "        if isfloat(num_critic_ratings) and (num_critic_ratings > 10) and isfloat(critic_rating):\n",
    "            critic_rating = float(critic_rating) / 10.0\n",
    "            movie_critic_ratings[movie_id] = critic_rating\n",
    "        \n",
    "    user_rating_header_indeces = {}\n",
    "    ratings = []\n",
    "    for line in open('data/grouplens/user_ratedmovies.dat'):\n",
    "        line = line.strip()\n",
    "        if not user_rating_header_indeces:\n",
    "            for i, column in enumerate(line.split('\\t')):\n",
    "                user_rating_header_indeces[column] = i\n",
    "            continue\n",
    "        \n",
    "        user_id, movie_id, rating = line.split()[0], line.split()[1], line.split()[2]\n",
    "        rating = float(rating) / 5.0\n",
    "        ratings.append(Rating(Rating=rating, User=user_id, Object=movie_id))\n",
    "    \n",
    "    return ratings, movie_critic_ratings\n",
    "\n",
    "ratings, movie_critic_ratings = get_data_set()"
   ]
  },
  {
   "cell_type": "code",
   "execution_count": 19,
   "metadata": {
    "collapsed": false,
    "scrolled": true
   },
   "outputs": [
    {
     "name": "stdout",
     "output_type": "stream",
     "text": [
      "62.278483073144336\n",
      "61.496129439707616\n",
      "61.493603840106864\n",
      "61.493138362295305\n",
      "61.493088210166945\n"
     ]
    }
   ],
   "source": [
    "ratings_graph = RatingsGraph(ratings, movie_critic_ratings, alpha=0.1)\n",
    "errors = ratings_graph.iterate_until_convergence()\n",
    "alpha_01_y = ratings_graph.bias_diffs"
   ]
  },
  {
   "cell_type": "code",
   "execution_count": 20,
   "metadata": {
    "collapsed": false
   },
   "outputs": [
    {
     "name": "stdout",
     "output_type": "stream",
     "text": [
      "62.133575117621646\n",
      "61.5042135106929\n",
      "61.49676115634972\n",
      "61.4937350885157\n",
      "61.49310223561717\n",
      "61.49297770975244\n"
     ]
    }
   ],
   "source": [
    "ratings_graph = RatingsGraph(ratings, movie_critic_ratings, alpha=0.2)\n",
    "errors = ratings_graph.iterate_until_convergence()\n",
    "alpha_02_y = ratings_graph.bias_diffs"
   ]
  },
  {
   "cell_type": "code",
   "execution_count": 21,
   "metadata": {
    "collapsed": false
   },
   "outputs": [
    {
     "name": "stdout",
     "output_type": "stream",
     "text": [
      "62.2074645052631\n",
      "61.61746091226952\n",
      "61.56135313001548\n",
      "61.5275458176886\n",
      "61.51039013655257\n",
      "61.50193470285097\n",
      "61.497793206880004\n",
      "61.49576827744867\n",
      "61.494778754818824\n",
      "61.49429528989775\n",
      "61.4940591028989\n",
      "61.493943719495086\n",
      "61.49388735141865\n"
     ]
    }
   ],
   "source": [
    "ratings_graph = RatingsGraph(ratings, movie_critic_ratings, alpha=0.5)\n",
    "errors = ratings_graph.iterate_until_convergence()\n",
    "alpha_05_y = ratings_graph.bias_diffs"
   ]
  },
  {
   "cell_type": "code",
   "execution_count": 22,
   "metadata": {
    "collapsed": false
   },
   "outputs": [
    {
     "data": {
      "text/plain": [
       "<matplotlib.text.Text at 0x7f1d03b131d0>"
      ]
     },
     "execution_count": 22,
     "metadata": {},
     "output_type": "execute_result"
    },
    {
     "data": {
      "image/png": "[encoded data removed]",
      "text/plain": [
       "<matplotlib.figure.Figure at 0x7f1cf9a3b0d0>"
      ]
     },
     "metadata": {},
     "output_type": "display_data"
    }
   ],
   "source": [
    "# alpha1_y = [1060.7027209712728, 8.151491760725987, 0.7153737296671119, 0.06850560075491723, 0.006667511431112653]\n",
    "# alpha2_y = [1070.5935889341972, 4.564030247992877, 0.612904383225149, 0.11645027071102854, 0.022635037211159174, 0.004417496078544927]\n",
    "# alpha3_y = [1053.1551336990312, 25.10273404110145, 7.154351826286142, 3.1423294052572497, 1.5036110680676322, 0.7318008354801494, 0.35723892532225704, 0.17449089566980958, 0.08524172566812642, 0.041643162313176836, 0.020344054518165375, 0.009938663773250384]\n",
    "\n",
    "plt.plot([i+1 for i in range(len(alpha_01_y))], [np.log(y) for y in alpha_01_y], 'orange', label='alpha = 0.1')\n",
    "plt.plot([i+1 for i in range(len(alpha_02_y))], [np.log(y) for y in alpha_02_y], '-b', label='alpha = 0.2')\n",
    "plt.plot([i+1 for i in range(len(alpha_05_y))], [np.log(y) for y in alpha_05_y], '-g', label='alpha = 0.5')\n",
    "plt.legend()\n",
    "plt.title('Bias Convergence Error by Epoch')\n",
    "plt.xlabel('Epoch Number')\n",
    "plt.ylabel('Log Bias Convergence Error')"
   ]
  },
  {
   "cell_type": "code",
   "execution_count": null,
   "metadata": {
    "collapsed": true
   },
   "outputs": [],
   "source": [
    "user_ratings_df = pd.read_table('data/grouplens/user_ratedmovies.dat', sep=\"\\t\")\n",
    "movie_ratings_df = pd.read_table('data/grouplens/movies.dat', sep=\"\\t\")"
   ]
  }
 ],
 "metadata": {
  "kernelspec": {
   "display_name": "Python 2",
   "language": "python",
   "name": "python2"
  },
  "language_info": {
   "codemirror_mode": {
    "name": "ipython",
    "version": 2
   },
   "file_extension": ".py",
   "mimetype": "text/x-python",
   "name": "python",
   "nbconvert_exporter": "python",
   "pygments_lexer": "ipython2",
   "version": "2.7.15"
  }
 },
 "nbformat": 4,
 "nbformat_minor": 2
}
