{
 "cells": [
  {
   "cell_type": "markdown",
   "metadata": {},
   "source": [
    "# Libraries"
   ]
  },
  {
   "cell_type": "code",
   "execution_count": 9,
   "metadata": {},
   "outputs": [],
   "source": [
    "import snap\n",
    "import collections\n",
    "from collections import namedtuple\n",
    "import numpy as np"
   ]
  },
  {
   "cell_type": "markdown",
   "metadata": {},
   "source": [
    "# Defining the Ratings Graph Class"
   ]
  },
  {
   "cell_type": "code",
   "execution_count": 8,
   "metadata": {},
   "outputs": [],
   "source": [
    "Rating = namedtuple('Rating', ['Rating', 'User', 'Object'])\n",
    "\n",
    "class RatingsGraph:\n",
    "    def __init__(self, ratings):\n",
    "        self.initial_ratings = []\n",
    "        self.users = set([rating.User for rating in initial_rating])\n",
    "        self.objects = set([rating.Object for rating in initial_rating])\n",
    "        \n",
    "        self.user_ratings = collections.defaultdict(list)\n",
    "        self.object_ratings = collections.defaultdict(list)\n",
    "        self.ratings = {}\n",
    "        \n",
    "        for rating in self.initial_ratings:\n",
    "            self.user_ratings[rating.User].append(rating)\n",
    "            self.object_ratings[rating.Object].append(rating)\n",
    "            self.ratings[(rating.User, rating.Object)] = rating.Rating\n",
    "        \n",
    "        self.biases = {user: np.random.uniform(-1, 1) for user in self.users}\n",
    "        self.true_ratings = {objects: np.random.uniform(0, 1) for user in self.users}        \n",
    "        \n",
    "    def get_user_ratings(self, user):\n",
    "        return self.user_ratings[rating.User]\n",
    "    \n",
    "    def get_object_ratings(self, obj):\n",
    "        return self.object_ratings[obj]\n",
    "    \n",
    "    def perform_single_iteration(self):\n",
    "        alpha = 0.1\n",
    "        \n",
    "        for obj in self.objects:\n",
    "            self.true_ratings[obj] = sum([(1.0 / len(self.object_ratings[obj])) * \\\n",
    "                            max(0, (min(1, self.ratings[(user, obj)]-alpha*self.biases[user])))\\\n",
    "                                    for user in object_ratings[obj]])\n",
    "            \n",
    "        for user in self.users: \n",
    "            self.biases[user] = sum([(1.0 / len(self.user_ratings[user])) * \\\n",
    "                                     (self.ratings[(user, obj)] - self.true_ratings[obj]) \\\n",
    "                                    for obj in user_ratings[user]])\\\n",
    "        "
   ]
  },
  {
   "cell_type": "code",
   "execution_count": null,
   "metadata": {},
   "outputs": [],
   "source": []
  }
 ],
 "metadata": {
  "kernelspec": {
   "display_name": "Python 2",
   "language": "python",
   "name": "python2"
  },
  "language_info": {
   "codemirror_mode": {
    "name": "ipython",
    "version": 2
   },
   "file_extension": ".py",
   "mimetype": "text/x-python",
   "name": "python",
   "nbconvert_exporter": "python",
   "pygments_lexer": "ipython2",
   "version": "2.7.14"
  }
 },
 "nbformat": 4,
 "nbformat_minor": 2
}
