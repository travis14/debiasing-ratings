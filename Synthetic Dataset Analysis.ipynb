{
 "cells": [
  {
   "cell_type": "code",
   "execution_count": 1,
   "metadata": {
    "collapsed": false
   },
   "outputs": [],
   "source": [
    "import numpy as np\n",
    "import pandas as pd\n",
    "from ratings_graph import RatingsGraph\n",
    "from baseline_debiaser import *\n",
    "import matplotlib.pyplot as plt"
   ]
  },
  {
   "cell_type": "markdown",
   "metadata": {},
   "source": [
    "## Working Synthetic Data"
   ]
  },
  {
   "cell_type": "code",
   "execution_count": null,
   "metadata": {
    "collapsed": true
   },
   "outputs": [],
   "source": [
    "# Working 2x2 example of synthetic dataset\n",
    "\n",
    "# num_users, num_entities = 100, 50\n",
    "\n",
    "# ground_truth_ratings = np.zeros(num_entities)\n",
    "# ground_truth_ratings[type_1_entities] = 0.3\n",
    "# ground_truth_ratings[np.logical_not(type_1_entities)] = 0.7\n",
    "\n",
    "# ratings_matrix = np.zeros((num_users, num_entities))\n",
    "# ratings_matrix[type_A_users[:, None].dot(type_1_entities[None, :])] = 0.6\n",
    "# ratings_matrix[type_A_users[:, None].dot(np.logical_not(type_1_entities)[None, :])] = 1\n",
    "# ratings_matrix[np.logical_not(type_A_users)[:, None].dot(type_1_entities[None, :])] = 0.1\n",
    "# ratings_matrix[np.logical_not(type_A_users)[:, None].dot(np.logical_not(type_1_entities)[None, :])] = 0.5"
   ]
  },
  {
   "cell_type": "code",
   "execution_count": 2,
   "metadata": {
    "collapsed": true
   },
   "outputs": [],
   "source": [
    "def gen_ratings_graph(rating_sparseness, user_type_counts, entity_type_counts, ground_truth_fn, user_type_ratings, similarity_fn):\n",
    "    '''\n",
    "    rating_sparseness: percentage of ratings actually present\n",
    "    user_types_prob: probability that user is type A vs B\n",
    "    movie_type_prob: probability that movie is type 1 vs 2\n",
    "    ground_truth: 2x1 matrix, ground truth each type movie\n",
    "    user_biases: 2x2 matrix with user bias for each movie type\n",
    "    '''\n",
    "    num_users, num_entities = np.sum(user_type_counts), np.sum(entity_type_counts)\n",
    "    ratings_graph = np.random.rand(num_users, num_entities) <= rating_sparseness #0.4\n",
    "    \n",
    "    user_types = np.random.permutation(np.repeat(np.arange(user_type_counts.shape[0]), user_type_counts))\n",
    "    entity_types = np.random.permutation(np.repeat(np.arange(entity_type_counts.shape[0]), entity_type_counts))\n",
    "    \n",
    "    ground_truth_ratings = np.vectorize(ground_truth_fn)(entity_types)\n",
    "    \n",
    "    ratings_matrix = np.zeros((num_users, num_entities))\n",
    "    for user in range(num_users):\n",
    "        for entity in range(num_entities):\n",
    "            ratings_matrix[user, entity] = user_type_ratings(user_types[user], entity_types[entity])\n",
    "\n",
    "    similarity_matrix = np.zeros((num_entities, num_entities))\n",
    "    for entity in range(num_entities):\n",
    "        for entity_2 in range(entity, num_entities):\n",
    "            similarity_matrix[entity, entity_2] = similarity_fn(entity_types[entity], entity_types[entity_2])\n",
    "            similarity_matrix[entity_2, entity] = similarity_matrix[entity, entity_2] \n",
    "            \n",
    "    return ratings_graph, ratings_matrix, ground_truth_ratings, user_types, entity_types, similarity_matrix"
   ]
  },
  {
   "cell_type": "code",
   "execution_count": 3,
   "metadata": {
    "collapsed": true
   },
   "outputs": [],
   "source": [
    "def get_median_error(ratings_matrix, ratings_graph, ground_truth_ratings):\n",
    "    ratings_matrix_na = ratings_matrix.copy()\n",
    "    ratings_matrix_na[ratings_graph==0]=np.nan\n",
    "    median_pred = np.nanmedian(ratings_matrix_na, axis=0)\n",
    "    return np.sqrt(np.mean((median_pred - ground_truth_ratings)**2))"
   ]
  },
  {
   "cell_type": "code",
   "execution_count": 4,
   "metadata": {
    "collapsed": false
   },
   "outputs": [
    {
     "name": "stdout",
     "output_type": "stream",
     "text": [
      "1150\n"
     ]
    }
   ],
   "source": [
    "def ground_truth_rating_fn(entity_type):\n",
    "    return 0.6 if entity_type == 1 else 0.3\n",
    "\n",
    "def user_type_rating_fn(user_type, entity_type):\n",
    "    if user_type == 0:\n",
    "        return ground_truth_rating_fn(entity_type) + 0.4\n",
    "    else:\n",
    "        return ground_truth_rating_fn(entity_type) - 0.1\n",
    "\n",
    "def similarity_fn(e1,e2):\n",
    "    return 1 if e1==e2 else 0\n",
    "\n",
    "ratings_graph, ratings_matrix, ground_truth_ratings, user_types, entity_types, sim = gen_ratings_graph(0.4, \\\n",
    "                                                                        (100*np.array([0.5, 0.5])).astype(int), \\\n",
    "                                                                        (50*np.array([0.5, 0.5])).astype(int), \\\n",
    "                                                                        ground_truth_rating_fn,\n",
    "                                                                        user_type_rating_fn, similarity_fn)\n",
    "synthetic_graph = RatingsGraph(ratings_graph, ratings_matrix, entity_sim = sim, ground_truth_ratings=ground_truth_ratings)\n",
    "biases, true_ratings, errors = debias_ratings_baseline(synthetic_graph, 0.99, 1.00, 200000, 0.01)\n",
    "print(len(errors))\n",
    "biases_no_moment, true_ratings_no_moment, errors_no_moment = debias_ratings_baseline(synthetic_graph, 0.99, 1.00, 200000, 1)"
   ]
  },
  {
   "cell_type": "code",
   "execution_count": 8,
   "metadata": {
    "collapsed": false
   },
   "outputs": [
    {
     "data": {
      "image/png": "[encoded data removed]",
      "text/plain": [
       "<matplotlib.figure.Figure at 0x7f2062de4410>"
      ]
     },
     "metadata": {},
     "output_type": "display_data"
    }
   ],
   "source": [
    "mean_pred = np.sum(ratings_matrix*ratings_graph, axis=0)/synthetic_graph.get_entity_rating_counts()\n",
    "mean_pred_error = np.sqrt(np.mean((mean_pred - ground_truth_ratings)**2))\n",
    "\n",
    "median_pred_error = get_median_error(ratings_matrix, ratings_graph, ground_truth_ratings)\n",
    "\n",
    "#plt.plot(errors, label='Mishra + momentum')\n",
    "plt.plot(errors_no_moment, label='Mishra')\n",
    "#plt.plot(errors_type_bias, label='Type Specific Bias')\n",
    "plt.axhline(mean_pred_error, color='r', linestyle='--', label='mean')\n",
    "plt.axhline(median_pred_error, color='g', linestyle='--', label='median')\n",
    "plt.legend()\n",
    "plt.savefig('mishra_only.pdf')\n",
    "plt.show()"
   ]
  },
  {
   "cell_type": "code",
   "execution_count": null,
   "metadata": {
    "collapsed": false
   },
   "outputs": [],
   "source": [
    "print mean_pred[:10]\n",
    "print median_pred[:10]\n",
    "best_iter = np.argmin(errors)\n",
    "#true_ratings[best_iter]\n",
    "#print(best_iter)\n",
    "#np.sort(np.abs(biases[best_iter - 1] - biases[best_iter]))\n",
    "print true_ratings[-1][:10]"
   ]
  },
  {
   "cell_type": "code",
   "execution_count": null,
   "metadata": {
    "collapsed": false
   },
   "outputs": [],
   "source": [
    "ground_truth_ratings[:10]"
   ]
  },
  {
   "cell_type": "code",
   "execution_count": null,
   "metadata": {
    "collapsed": false
   },
   "outputs": [],
   "source": [
    "plt.plot([np.max(np.absolute(bias)) for bias in biases])\n",
    "plt.show()"
   ]
  },
  {
   "cell_type": "code",
   "execution_count": null,
   "metadata": {
    "collapsed": false
   },
   "outputs": [],
   "source": [
    "np.max(np.absolute(biases[-1]))"
   ]
  },
  {
   "cell_type": "code",
   "execution_count": null,
   "metadata": {
    "collapsed": false
   },
   "outputs": [],
   "source": [
    "[(user_types[i]+1, bias) for i, bias in enumerate(biases[-1])][:10]"
   ]
  },
  {
   "cell_type": "code",
   "execution_count": null,
   "metadata": {
    "collapsed": false
   },
   "outputs": [],
   "source": [
    "sim"
   ]
  },
  {
   "cell_type": "markdown",
   "metadata": {},
   "source": [
    "## Synthetic Dataset 2 "
   ]
  },
  {
   "cell_type": "code",
   "execution_count": null,
   "metadata": {
    "collapsed": false
   },
   "outputs": [],
   "source": [
    "def ground_truth_rating_fn(entity_type):\n",
    "    return 0.7 if entity_type == 1 else 0.3\n",
    "\n",
    "def user_type_rating_fn(user_type, entity_type):\n",
    "    if user_type == 0 and entity_type == 0:\n",
    "        return 1\n",
    "    if user_type == 0 and entity_type == 1:\n",
    "        return 0\n",
    "    if user_type == 1 and entity_type == 0:\n",
    "        return 0.4\n",
    "    else:\n",
    "        return 0.6\n",
    "\n",
    "def similarity_fn(e1,e2):\n",
    "    return 1 if e1==e2 else 0\n",
    "\n",
    "ratings_graph, ratings_matrix, ground_truth_ratings, user_types, entity_types, sim = gen_ratings_graph(1, \\\n",
    "                                                                        (100*np.array([0.5, 0.5])).astype(int), \\\n",
    "                                                                        (50*np.array([0.5, 0.5])).astype(int), \\\n",
    "                                                                        ground_truth_rating_fn,\n",
    "                                                                        user_type_rating_fn, similarity_fn)\n",
    "synthetic_graph = RatingsGraph(ratings_graph, ratings_matrix, entity_sim = sim, ground_truth_ratings=ground_truth_ratings)\n",
    "biases, true_ratings, errors = debias_ratings_baseline(synthetic_graph, 0.99, 1.00, 200000, 0.01)\n",
    "print(len(errors))\n",
    "biases_no_moment, true_ratings_no_moment, errors_no_moment = debias_ratings_baseline(synthetic_graph, 0.99, 1.00, 200000, 1)\n",
    "biases_type_bias, true_ratings_type_bias, errors_type_bias = \\\n",
    "    debias_ratings_baseline(synthetic_graph, 0.99, 1.0, 200000, 0.05,user_entity_specific=True)\n",
    "print(len(errors_type_bias))"
   ]
  },
  {
   "cell_type": "code",
   "execution_count": null,
   "metadata": {
    "collapsed": true
   },
   "outputs": [],
   "source": []
  },
  {
   "cell_type": "code",
   "execution_count": null,
   "metadata": {
    "collapsed": false
   },
   "outputs": [],
   "source": [
    "mean_pred = np.sum(ratings_matrix*ratings_graph, axis=0)/synthetic_graph.get_entity_rating_counts()\n",
    "mean_pred_error = np.sqrt(np.mean((mean_pred - ground_truth_ratings)**2))\n",
    "\n",
    "median_pred_error = get_median_error(ratings_matrix, ratings_graph, ground_truth_ratings)\n",
    "\n",
    "plt.plot(errors, label='Mishra + momentum')\n",
    "plt.plot(errors_no_moment, label='Mishra')\n",
    "plt.plot(errors_type_bias, label='Type Specific Bias')\n",
    "plt.axhline(mean_pred_error, color='r', linestyle='--', label='mean')\n",
    "plt.axhline(median_pred_error, color='g', linestyle='--', label='median')\n",
    "plt.legend()\n",
    "plt.savefig('mishra_synthetic_dataset2.pdf')\n",
    "plt.show()"
   ]
  },
  {
   "cell_type": "markdown",
   "metadata": {},
   "source": [
    "## Synthetic Data 3"
   ]
  },
  {
   "cell_type": "code",
   "execution_count": null,
   "metadata": {
    "collapsed": false
   },
   "outputs": [],
   "source": [
    "def ground_truth_rating_fn(entity_type):\n",
    "    # uniform!\n",
    "    return np.random.beta(10,10)\n",
    "\n",
    "def user_type_rating_fn(user_type, entity_type):\n",
    "    #np.random.seed(np.random.randint(0,10))\n",
    "    # user and item of same type\n",
    "    alpha_same, beta_same = 50, 5\n",
    "    alpha_diff, beta_diff = 15, 30\n",
    "    if user_type == entity_type:\n",
    "        return np.random.beta(alpha_same, beta_same)\n",
    "    else:\n",
    "        return np.random.beta(alpha_diff, beta_diff)\n",
    "\n",
    "def similarity_fn(entity_type_1, entity_type_2):\n",
    "    alpha_same, beta_same = 50, 10\n",
    "    alpha_diff, beta_diff = 12, 55\n",
    "    if entity_type_1 == entity_type_2:\n",
    "        return np.random.beta(alpha_same, beta_same)\n",
    "    else:\n",
    "        return np.random.beta(alpha_diff, beta_diff)\n",
    "    \n",
    "ratings_graph, ratings_matrix, ground_truth_ratings, user_types, entity_types, similarity = gen_ratings_graph(1.0, \\\n",
    "                                                                        (100*np.array([0.5, 0.5])).astype(int), \\\n",
    "                                                                        (60*np.array([0.5, 0.5])).astype(int), \\\n",
    "                                                                        ground_truth_rating_fn,\n",
    "                                                                        user_type_rating_fn,\n",
    "                                                                        similarity_fn)"
   ]
  },
  {
   "cell_type": "code",
   "execution_count": null,
   "metadata": {
    "collapsed": false
   },
   "outputs": [],
   "source": [
    "synthetic_graph = RatingsGraph(ratings_graph, ratings_matrix, \n",
    "                               entity_sim = similarity, ground_truth_ratings=ground_truth_ratings)\n",
    "weights, ratings = similarity_weights_approach(synthetic_graph)"
   ]
  },
  {
   "cell_type": "code",
   "execution_count": null,
   "metadata": {
    "collapsed": false
   },
   "outputs": [],
   "source": [
    "print (ratings_matrix*ratings_graph)[0,:10]\n",
    "print weights[0,:10]\n",
    "print ratings[:10]\n",
    "print ground_truth_ratings[:10]"
   ]
  },
  {
   "cell_type": "code",
   "execution_count": null,
   "metadata": {
    "collapsed": false
   },
   "outputs": [],
   "source": [
    "rmse = np.sqrt(np.mean((ratings - ground_truth_ratings)**2))\n",
    "print rmse"
   ]
  },
  {
   "cell_type": "code",
   "execution_count": null,
   "metadata": {
    "collapsed": true
   },
   "outputs": [],
   "source": [
    "mean_pred = np.sum(ratings_matrix*ratings_graph, axis=0)/synthetic_graph.get_entity_rating_counts()\n",
    "mean_pred_error = np.sqrt(np.mean((mean_pred - ground_truth_ratings)**2))"
   ]
  },
  {
   "cell_type": "code",
   "execution_count": null,
   "metadata": {
    "collapsed": false
   },
   "outputs": [],
   "source": [
    "mean_pred_error"
   ]
  },
  {
   "cell_type": "code",
   "execution_count": null,
   "metadata": {
    "collapsed": false
   },
   "outputs": [],
   "source": [
    "biases, true_ratings, errors = debias_ratings_baseline(synthetic_graph, 0.99, 1.00, 1000, 0.01)\n",
    "errors[-1]"
   ]
  },
  {
   "cell_type": "code",
   "execution_count": null,
   "metadata": {
    "collapsed": false
   },
   "outputs": [],
   "source": [
    "biases_type_bias, true_ratings_type_bias, errors_type_bias = \\\n",
    "    debias_ratings_baseline(synthetic_graph, 0.99, 1.0, 200000, 0.05,user_entity_specific=True)\n",
    "print(errors_type_bias[-1])"
   ]
  },
  {
   "cell_type": "code",
   "execution_count": null,
   "metadata": {
    "collapsed": false
   },
   "outputs": [],
   "source": [
    "median_pred_error = get_median_error(ratings_matrix, ratings_graph, ground_truth_ratings)\n",
    "median_pred_error"
   ]
  },
  {
   "cell_type": "code",
   "execution_count": null,
   "metadata": {
    "collapsed": true
   },
   "outputs": [],
   "source": []
  }
 ],
 "metadata": {
  "kernelspec": {
   "display_name": "Python 2",
   "language": "python",
   "name": "python2"
  },
  "language_info": {
   "codemirror_mode": {
    "name": "ipython",
    "version": 2
   },
   "file_extension": ".py",
   "mimetype": "text/x-python",
   "name": "python",
   "nbconvert_exporter": "python",
   "pygments_lexer": "ipython2",
   "version": "2.7.15"
  }
 },
 "nbformat": 4,
 "nbformat_minor": 2
}
