{
 "cells": [
  {
   "cell_type": "code",
   "execution_count": 1,
   "metadata": {
    "collapsed": false
   },
   "outputs": [],
   "source": [
    "import numpy as np\n",
    "import pandas as pd\n",
    "from ratings_graph import RatingsGraph\n",
    "from baseline_debiaser import debias_ratings_baseline\n",
    "import matplotlib.pyplot as plt"
   ]
  },
  {
   "cell_type": "markdown",
   "metadata": {},
   "source": [
    "## Working Synthetic Data"
   ]
  },
  {
   "cell_type": "code",
   "execution_count": 2,
   "metadata": {
    "collapsed": true
   },
   "outputs": [],
   "source": [
    "# Working 2x2 example of synthetic dataset\n",
    "\n",
    "# num_users, num_entities = 100, 50\n",
    "\n",
    "# ground_truth_ratings = np.zeros(num_entities)\n",
    "# ground_truth_ratings[type_1_entities] = 0.3\n",
    "# ground_truth_ratings[np.logical_not(type_1_entities)] = 0.7\n",
    "\n",
    "# ratings_matrix = np.zeros((num_users, num_entities))\n",
    "# ratings_matrix[type_A_users[:, None].dot(type_1_entities[None, :])] = 0.6\n",
    "# ratings_matrix[type_A_users[:, None].dot(np.logical_not(type_1_entities)[None, :])] = 1\n",
    "# ratings_matrix[np.logical_not(type_A_users)[:, None].dot(type_1_entities[None, :])] = 0.1\n",
    "# ratings_matrix[np.logical_not(type_A_users)[:, None].dot(np.logical_not(type_1_entities)[None, :])] = 0.5"
   ]
  },
  {
   "cell_type": "code",
   "execution_count": 3,
   "metadata": {
    "collapsed": true
   },
   "outputs": [],
   "source": [
    "def gen_ratings_graph(rating_sparseness, user_type_counts, entity_type_counts, ground_truth_fn, user_type_ratings):\n",
    "    '''\n",
    "    rating_sparseness: percentage of ratings actually present\n",
    "    user_types_prob: probability that user is type A vs B\n",
    "    movie_type_prob: probability that movie is type 1 vs 2\n",
    "    ground_truth: 2x1 matrix, ground truth each type movie\n",
    "    user_biases: 2x2 matrix with user bias for each movie type\n",
    "    '''\n",
    "    num_users, num_entities = np.sum(user_type_counts), np.sum(entity_type_counts)\n",
    "    ratings_graph = np.random.rand(num_users, num_entities) <= rating_sparseness #0.4\n",
    "    \n",
    "    user_types = np.random.permutation(np.repeat(np.arange(user_type_counts.shape[0]), user_type_counts))\n",
    "    entity_types = np.random.permutation(np.repeat(np.arange(entity_type_counts.shape[0]), entity_type_counts))\n",
    "    \n",
    "    ground_truth_ratings = np.vectorize(ground_truth_fn)(entity_types)\n",
    "    \n",
    "    ratings_matrix = np.zeros((num_users, num_entities))\n",
    "    for user_type in range(user_type_counts.shape[0]):\n",
    "        for entity_type in range(entity_type_counts.shape[0]):\n",
    "            user_entity_type_mask = (user_types == user_type)[:, None].dot((entity_types == entity_type)[None, :])\n",
    "            ratings_matrix[user_entity_type_mask] = user_type_ratings(user_type, entity_type)\n",
    "            \n",
    "    return ratings_graph, ratings_matrix, ground_truth_ratings, user_types, entity_types"
   ]
  },
  {
   "cell_type": "code",
   "execution_count": 12,
   "metadata": {
    "collapsed": false
   },
   "outputs": [],
   "source": [
    "def ground_truth_rating_fn(entity_type):\n",
    "    return 0.6 if entity_type == 1 else 0.3\n",
    "\n",
    "def user_type_rating_fn(user_type, entity_type):\n",
    "    if user_type == 0:\n",
    "        return ground_truth_rating_fn(entity_type) + 0.4\n",
    "    else:\n",
    "        return ground_truth_rating_fn(entity_type) - 0.1\n",
    "\n",
    "ratings_graph, ratings_matrix, ground_truth_ratings, user_types, entity_types = gen_ratings_graph(0.1, \\\n",
    "                                                                        (1000*np.array([0.5, 0.5])).astype(int), \\\n",
    "                                                                        (500*np.array([0.5, 0.5])).astype(int), \\\n",
    "                                                                        ground_truth_rating_fn,\n",
    "                                                                        user_type_rating_fn)\n",
    "synthetic_graph = RatingsGraph(ratings_graph, ratings_matrix, ground_truth_ratings=ground_truth_ratings)\n",
    "#biases_1, true_ratings_1, errors_1 = debias_ratings_baseline(synthetic_graph, 0.2, 1000)\n",
    "biases, true_ratings, errors = debias_ratings_baseline(synthetic_graph, 0.1, 1.00, 1000, 0.01)"
   ]
  },
  {
   "cell_type": "code",
   "execution_count": 13,
   "metadata": {
    "collapsed": false
   },
   "outputs": [
    {
     "data": {
      "text/plain": [
       "943"
      ]
     },
     "execution_count": 13,
     "metadata": {},
     "output_type": "execute_result"
    }
   ],
   "source": [
    "len(errors)"
   ]
  },
  {
   "cell_type": "code",
   "execution_count": 14,
   "metadata": {
    "collapsed": false
   },
   "outputs": [
    {
     "data": {
      "image/png": "[encoded data removed]",
      "text/plain": [
       "<matplotlib.figure.Figure at 0x7fcff2af8750>"
      ]
     },
     "metadata": {},
     "output_type": "display_data"
    }
   ],
   "source": [
    "mean_pred = np.sum(ratings_matrix*ratings_graph, axis=0)/synthetic_graph.get_entity_rating_counts()\n",
    "mean_pred_error = np.sqrt(np.mean((mean_pred - ground_truth_ratings)**2))\n",
    "\n",
    "#plt.plot(errors_1, label='alpha=0.2')\n",
    "plt.plot(errors)\n",
    "plt.axhline(mean_pred_error, color='r', linestyle='--')\n",
    "plt.legend()\n",
    "plt.show()"
   ]
  },
  {
   "cell_type": "code",
   "execution_count": 7,
   "metadata": {
    "collapsed": false
   },
   "outputs": [
    {
     "name": "stdout",
     "output_type": "stream",
     "text": [
      "[0.765      0.46086957 0.74479167 0.45       0.75       0.49047619\n",
      " 0.75416667 0.43333333 0.75543478 0.73958333]\n"
     ]
    }
   ],
   "source": [
    "print mean_pred[:10]"
   ]
  },
  {
   "cell_type": "code",
   "execution_count": 8,
   "metadata": {
    "collapsed": false
   },
   "outputs": [
    {
     "name": "stdout",
     "output_type": "stream",
     "text": [
      "[0.76350377 0.45977083 0.7453174  0.44999741 0.7499616  0.48648174\n",
      " 0.75377034 0.43494548 0.75488281 0.74054656]\n"
     ]
    }
   ],
   "source": [
    "best_iter = np.argmin(errors)\n",
    "#true_ratings[best_iter]\n",
    "#print(best_iter)\n",
    "#np.sort(np.abs(biases[best_iter - 1] - biases[best_iter]))\n",
    "print true_ratings[-1][:10]"
   ]
  },
  {
   "cell_type": "code",
   "execution_count": 9,
   "metadata": {
    "collapsed": false
   },
   "outputs": [
    {
     "data": {
      "text/plain": [
       "array([0.6, 0.3, 0.6, 0.3, 0.6, 0.3, 0.6, 0.3, 0.6, 0.6])"
      ]
     },
     "execution_count": 9,
     "metadata": {},
     "output_type": "execute_result"
    }
   ],
   "source": [
    "ground_truth_ratings[:10]"
   ]
  },
  {
   "cell_type": "code",
   "execution_count": 15,
   "metadata": {
    "collapsed": false
   },
   "outputs": [
    {
     "data": {
      "image/png": "[encoded data removed]",
      "text/plain": [
       "<matplotlib.figure.Figure at 0x7fcff296ca90>"
      ]
     },
     "metadata": {},
     "output_type": "display_data"
    }
   ],
   "source": [
    "plt.plot([np.max(np.absolute(bias)) for bias in biases])\n",
    "plt.show()"
   ]
  },
  {
   "cell_type": "code",
   "execution_count": 11,
   "metadata": {
    "collapsed": false
   },
   "outputs": [
    {
     "data": {
      "text/plain": [
       "0.25723335228429217"
      ]
     },
     "execution_count": 11,
     "metadata": {},
     "output_type": "execute_result"
    }
   ],
   "source": [
    "np.max(np.absolute(biases[-1]))"
   ]
  }
 ],
 "metadata": {
  "kernelspec": {
   "display_name": "Python 2",
   "language": "python",
   "name": "python2"
  },
  "language_info": {
   "codemirror_mode": {
    "name": "ipython",
    "version": 2
   },
   "file_extension": ".py",
   "mimetype": "text/x-python",
   "name": "python",
   "nbconvert_exporter": "python",
   "pygments_lexer": "ipython2",
   "version": "2.7.15"
  }
 },
 "nbformat": 4,
 "nbformat_minor": 2
}
