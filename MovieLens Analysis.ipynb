{
 "cells": [
  {
   "cell_type": "code",
   "execution_count": 2,
   "metadata": {},
   "outputs": [],
   "source": [
    "import numpy as np\n",
    "import pandas as pd\n",
    "from ratings_graph import RatingsGraph\n",
    "from baseline_debiaser import debias_ratings_baseline\n",
    "from tqdm import tqdm"
   ]
  },
  {
   "cell_type": "code",
   "execution_count": 24,
   "metadata": {},
   "outputs": [
    {
     "name": "stderr",
     "output_type": "stream",
     "text": [
      "855598it [01:11, 11890.96it/s]\n"
     ]
    }
   ],
   "source": [
    "def read_table(data_file, cols_to_cast_float = []):\n",
    "    raw_data = pd.read_table(data_file)\n",
    "    \n",
    "    data = raw_data\n",
    "    if cols_to_cast_float:\n",
    "        good_data_rows = np.where(np.all(np.hstack([(raw_data[col_name] != '\\\\N')[:, None] \n",
    "                                                    for col_name in cols_to_cast_float]), axis=1))[0]\n",
    "        data = raw_data.iloc[good_data_rows].copy()\n",
    "        \n",
    "        for col_name in cols_to_cast_float:\n",
    "            data.loc[:, col_name] = data.loc[:, col_name].astype(float)\n",
    "        \n",
    "    return data\n",
    "    \n",
    "movies_numeric_cols = ['rtAllCriticsRating', 'rtAllCriticsNumReviews', 'rtAllCriticsNumFresh', \n",
    "                    'rtAllCriticsNumRotten', 'rtAllCriticsScore', 'rtTopCriticsRating', 'rtTopCriticsNumReviews', \n",
    "                    'rtTopCriticsNumFresh', 'rtTopCriticsNumRotten', 'rtTopCriticsScore', 'rtAudienceRating', \n",
    "                    'rtAudienceNumRatings', 'rtAudienceScore']\n",
    "movies = read_table('data/grouplens/movies.dat', movies_numeric_cols)\n",
    "user_ratings = read_table('data/grouplens/user_ratedmovies.dat')\n",
    "\n",
    "movie_index_lookup = {}\n",
    "counter = 0\n",
    "true_ratings = np.zeros(movies.shape[0])\n",
    "for _, movie in tqdm(movies.iterrows()):\n",
    "    if movie['rtTopCriticsNumReviews' >= 5]:\n",
    "        movie_index_lookup[movie['id']] = counter\n",
    "        true_ratings[counter] = movie['rtTopCriticsRating'] / 10\n",
    "        counter += 1\n",
    "\n",
    "user_ids = user_ratings['userID'].unique()\n",
    "user_index_lookup = {user_id: idx for idx, user_id in enumerate(user_ids)}\n",
    "num_users, num_movies = len(user_index_lookup), len(movie_index_lookup)\n",
    "ratings_graph = np.zeros((num_users, num_movies))\n",
    "ratings_matrix = np.zeros((num_users, num_movies))\n",
    "for _, rating in tqdm(user_ratings.iterrows()):\n",
    "    if int(rating['movieID']) in movie_index_lookup:\n",
    "        ratings_graph[user_index_lookup[rating['userID']], movie_index_lookup[int(rating['movieID'])]] = 1\n",
    "        ratings_matrix[user_index_lookup[rating['userID']], movie_index_lookup[int(rating['movieID'])]] = rating['rating'] / 5\n",
    "    \n",
    "# ratings = user_ratings.loc[['userID', 'movieID', 'rating']].set_index('movieID')\n",
    "# final_movies = ratings.join(movies[['id']], how='inner')[['movieID']].drop_duplicates().set_index('movieID')\n",
    "# ratings_wide = ratings.join(final_movies, how='inner', on='movieID')\\\n",
    "#                     .pivot(index='userID', columns='movieID', values='rating')\n",
    "\n",
    "# ratings_graph = np.array(ratings_wide)\n",
    "# ratings_matrix = np.array(ratings_wide)\n",
    "# ratings_matrix[np.isnan(ratings_matrix)] = 0\n",
    "# ratings_graph[np.isnan(ratings_matrix)] = 0\n",
    "# ratings_graph[np.logical_not(np.isnan(ratings_matrix))] = 1\n",
    "# true_ratings = final_movies.join(movies, how='inner', on='movieID')"
   ]
  },
  {
   "cell_type": "code",
   "execution_count": 27,
   "metadata": {},
   "outputs": [
    {
     "name": "stdout",
     "output_type": "stream",
     "text": [
      "0.0\n",
      "False\n"
     ]
    }
   ],
   "source": [
    "print np.min(np.sum(ratings_graph, axis=0))\n",
    "print np.any(np.isnan(ratings_matrix))"
   ]
  },
  {
   "cell_type": "code",
   "execution_count": 25,
   "metadata": {},
   "outputs": [
    {
     "name": "stdout",
     "output_type": "stream",
     "text": [
      "True\n"
     ]
    }
   ],
   "source": [
    "movie_ratings_graph = RatingsGraph(ratings_graph, ratings_matrix)\n",
    "biases, true_ratings, errors = debias_ratings_baseline(movie_ratings_graph, 0.2, 100)"
   ]
  },
  {
   "cell_type": "code",
   "execution_count": null,
   "metadata": {},
   "outputs": [],
   "source": []
  }
 ],
 "metadata": {
  "kernelspec": {
   "display_name": "Python 2",
   "language": "python",
   "name": "python2"
  }
 },
 "nbformat": 4,
 "nbformat_minor": 2
}
